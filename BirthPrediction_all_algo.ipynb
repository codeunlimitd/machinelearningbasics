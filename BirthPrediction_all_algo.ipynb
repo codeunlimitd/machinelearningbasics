{
  "nbformat": 4,
  "nbformat_minor": 0,
  "metadata": {
    "kernelspec": {
      "display_name": "Python [conda env:root] *",
      "language": "python",
      "name": "conda-root-py"
    },
    "language_info": {
      "codemirror_mode": {
        "name": "ipython",
        "version": 3
      },
      "file_extension": ".py",
      "mimetype": "text/x-python",
      "name": "python",
      "nbconvert_exporter": "python",
      "pygments_lexer": "ipython3",
      "version": "3.7.4"
    },
    "colab": {
      "name": "BirthPrediction all algo.ipynb",
      "provenance": [],
      "include_colab_link": true
    }
  },
  "cells": [
    {
      "cell_type": "markdown",
      "metadata": {
        "id": "view-in-github",
        "colab_type": "text"
      },
      "source": [
        "<a href=\"https://colab.research.google.com/github/codeunlimitd/machinelearningbasics/blob/master/BirthPrediction_all_algo.ipynb\" target=\"_parent\"><img src=\"https://colab.research.google.com/assets/colab-badge.svg\" alt=\"Open In Colab\"/></a>"
      ]
    },
    {
      "cell_type": "code",
      "metadata": {
        "id": "SfWglatnsf9H"
      },
      "source": [
        "import pandas as pd\n",
        "import numpy as np\n",
        "from sklearn.metrics import roc_auc_score, accuracy_score, precision_score, recall_score, f1_score\n",
        "from sklearn.linear_model import LogisticRegression\n",
        "from sklearn.tree import DecisionTreeClassifier\n",
        "from sklearn.svm import SVC\n",
        "from sklearn.ensemble import RandomForestClassifier\n",
        "from sklearn.discriminant_analysis import LinearDiscriminantAnalysis, QuadraticDiscriminantAnalysis\n",
        "from sklearn.cluster import KMeans\n",
        "from sklearn.neighbors import KNeighborsClassifier\n",
        "from sklearn.naive_bayes import GaussianNB\n",
        "from sklearn.metrics import precision_recall_fscore_support\n",
        "from sklearn.metrics import mean_squared_error as mse\n",
        "from sklearn.preprocessing import StandardScaler\n",
        "from sklearn.model_selection import cross_validate\n",
        "from sklearn.model_selection import train_test_split\n",
        "from sklearn.ensemble import ExtraTreesClassifier\n",
        "from sklearn.feature_selection import SelectFromModel\n",
        "from sklearn.svm import LinearSVC\n",
        "from sklearn.ensemble import VotingClassifier\n",
        "from sklearn.feature_selection import RFECV\n"
      ],
      "execution_count": null,
      "outputs": []
    },
    {
      "cell_type": "code",
      "metadata": {
        "id": "gZXVDSsPsf9N"
      },
      "source": [
        "import warnings\n",
        "warnings.filterwarnings('ignore')"
      ],
      "execution_count": null,
      "outputs": []
    },
    {
      "cell_type": "code",
      "metadata": {
        "id": "IgofyAwVsf9R"
      },
      "source": [
        "############################################################\n",
        "###         DATA SET CLEANING\n",
        "###########################################################\n",
        "url = 'https://raw.githubusercontent.com/codeunlimitd/machinelearningbasics/master/birthpredictiondata.csv'\n",
        "initial_data = pd.read_csv(url)"
      ],
      "execution_count": null,
      "outputs": []
    },
    {
      "cell_type": "code",
      "metadata": {
        "id": "EBXNq1lssf9V",
        "colab": {
          "base_uri": "https://localhost:8080/",
          "height": 222
        },
        "outputId": "de61723c-289a-4737-fc02-22f2e2cc84b2"
      },
      "source": [
        "initial_data.head()"
      ],
      "execution_count": null,
      "outputs": [
        {
          "output_type": "execute_result",
          "data": {
            "text/html": [
              "<div>\n",
              "<style scoped>\n",
              "    .dataframe tbody tr th:only-of-type {\n",
              "        vertical-align: middle;\n",
              "    }\n",
              "\n",
              "    .dataframe tbody tr th {\n",
              "        vertical-align: top;\n",
              "    }\n",
              "\n",
              "    .dataframe thead th {\n",
              "        text-align: right;\n",
              "    }\n",
              "</style>\n",
              "<table border=\"1\" class=\"dataframe\">\n",
              "  <thead>\n",
              "    <tr style=\"text-align: right;\">\n",
              "      <th></th>\n",
              "      <th>pregnancy_reg_location_id</th>\n",
              "      <th>age_during_delivery</th>\n",
              "      <th>registered_with_no_of_child</th>\n",
              "      <th>registered_with_male_cnt</th>\n",
              "      <th>registered_with_female_cnt</th>\n",
              "      <th>prev_preg_diff_in_month</th>\n",
              "      <th>high_risk_mother</th>\n",
              "      <th>delivery_outcome</th>\n",
              "      <th>member_caste</th>\n",
              "      <th>is_bpl_family</th>\n",
              "    </tr>\n",
              "  </thead>\n",
              "  <tbody>\n",
              "    <tr>\n",
              "      <th>0</th>\n",
              "      <td>508796</td>\n",
              "      <td>24</td>\n",
              "      <td>1</td>\n",
              "      <td>0</td>\n",
              "      <td>1</td>\n",
              "      <td>38</td>\n",
              "      <td>False</td>\n",
              "      <td>LBIRTH</td>\n",
              "      <td>626.0</td>\n",
              "      <td>False</td>\n",
              "    </tr>\n",
              "    <tr>\n",
              "      <th>1</th>\n",
              "      <td>16234</td>\n",
              "      <td>21</td>\n",
              "      <td>1</td>\n",
              "      <td>0</td>\n",
              "      <td>1</td>\n",
              "      <td>3</td>\n",
              "      <td>True</td>\n",
              "      <td>LBIRTH</td>\n",
              "      <td>626.0</td>\n",
              "      <td>False</td>\n",
              "    </tr>\n",
              "    <tr>\n",
              "      <th>2</th>\n",
              "      <td>16234</td>\n",
              "      <td>19</td>\n",
              "      <td>1</td>\n",
              "      <td>0</td>\n",
              "      <td>1</td>\n",
              "      <td>3</td>\n",
              "      <td>True</td>\n",
              "      <td>LBIRTH</td>\n",
              "      <td>626.0</td>\n",
              "      <td>False</td>\n",
              "    </tr>\n",
              "    <tr>\n",
              "      <th>3</th>\n",
              "      <td>334215</td>\n",
              "      <td>21</td>\n",
              "      <td>1</td>\n",
              "      <td>0</td>\n",
              "      <td>1</td>\n",
              "      <td>13</td>\n",
              "      <td>True</td>\n",
              "      <td>LBIRTH</td>\n",
              "      <td>627.0</td>\n",
              "      <td>False</td>\n",
              "    </tr>\n",
              "    <tr>\n",
              "      <th>4</th>\n",
              "      <td>488661</td>\n",
              "      <td>22</td>\n",
              "      <td>1</td>\n",
              "      <td>0</td>\n",
              "      <td>1</td>\n",
              "      <td>8</td>\n",
              "      <td>True</td>\n",
              "      <td>LBIRTH</td>\n",
              "      <td>625.0</td>\n",
              "      <td>True</td>\n",
              "    </tr>\n",
              "  </tbody>\n",
              "</table>\n",
              "</div>"
            ],
            "text/plain": [
              "   pregnancy_reg_location_id  age_during_delivery  ...  member_caste  is_bpl_family\n",
              "0                     508796                   24  ...         626.0          False\n",
              "1                      16234                   21  ...         626.0          False\n",
              "2                      16234                   19  ...         626.0          False\n",
              "3                     334215                   21  ...         627.0          False\n",
              "4                     488661                   22  ...         625.0           True\n",
              "\n",
              "[5 rows x 10 columns]"
            ]
          },
          "metadata": {
            "tags": []
          },
          "execution_count": 4
        }
      ]
    },
    {
      "cell_type": "code",
      "metadata": {
        "id": "y9F2xzV3sf9a",
        "colab": {
          "base_uri": "https://localhost:8080/",
          "height": 222
        },
        "outputId": "e3efce97-3161-456d-acf6-310a76b9c90b"
      },
      "source": [
        "\n",
        "\n",
        "#Feature: delivery_outcome\n",
        "\n",
        "# hard coding categorical variable\n",
        "# 1 for LBIRTH\n",
        "# 0 for ABORTION, MTP, SBIRTH, and SPONT_ABORTION\n",
        "delivery_outcome_num = {'LBIRTH':1, 'ABORTION':0, 'MTP':0, 'SBIRTH':0, 'SPONT_ABORTION':0}\n",
        "initial_data['delivery_outcome'] = initial_data['delivery_outcome'].map(delivery_outcome_num)\n",
        "initial_data.head()"
      ],
      "execution_count": null,
      "outputs": [
        {
          "output_type": "execute_result",
          "data": {
            "text/html": [
              "<div>\n",
              "<style scoped>\n",
              "    .dataframe tbody tr th:only-of-type {\n",
              "        vertical-align: middle;\n",
              "    }\n",
              "\n",
              "    .dataframe tbody tr th {\n",
              "        vertical-align: top;\n",
              "    }\n",
              "\n",
              "    .dataframe thead th {\n",
              "        text-align: right;\n",
              "    }\n",
              "</style>\n",
              "<table border=\"1\" class=\"dataframe\">\n",
              "  <thead>\n",
              "    <tr style=\"text-align: right;\">\n",
              "      <th></th>\n",
              "      <th>pregnancy_reg_location_id</th>\n",
              "      <th>age_during_delivery</th>\n",
              "      <th>registered_with_no_of_child</th>\n",
              "      <th>registered_with_male_cnt</th>\n",
              "      <th>registered_with_female_cnt</th>\n",
              "      <th>prev_preg_diff_in_month</th>\n",
              "      <th>high_risk_mother</th>\n",
              "      <th>delivery_outcome</th>\n",
              "      <th>member_caste</th>\n",
              "      <th>is_bpl_family</th>\n",
              "    </tr>\n",
              "  </thead>\n",
              "  <tbody>\n",
              "    <tr>\n",
              "      <th>0</th>\n",
              "      <td>508796</td>\n",
              "      <td>24</td>\n",
              "      <td>1</td>\n",
              "      <td>0</td>\n",
              "      <td>1</td>\n",
              "      <td>38</td>\n",
              "      <td>False</td>\n",
              "      <td>1</td>\n",
              "      <td>626.0</td>\n",
              "      <td>False</td>\n",
              "    </tr>\n",
              "    <tr>\n",
              "      <th>1</th>\n",
              "      <td>16234</td>\n",
              "      <td>21</td>\n",
              "      <td>1</td>\n",
              "      <td>0</td>\n",
              "      <td>1</td>\n",
              "      <td>3</td>\n",
              "      <td>True</td>\n",
              "      <td>1</td>\n",
              "      <td>626.0</td>\n",
              "      <td>False</td>\n",
              "    </tr>\n",
              "    <tr>\n",
              "      <th>2</th>\n",
              "      <td>16234</td>\n",
              "      <td>19</td>\n",
              "      <td>1</td>\n",
              "      <td>0</td>\n",
              "      <td>1</td>\n",
              "      <td>3</td>\n",
              "      <td>True</td>\n",
              "      <td>1</td>\n",
              "      <td>626.0</td>\n",
              "      <td>False</td>\n",
              "    </tr>\n",
              "    <tr>\n",
              "      <th>3</th>\n",
              "      <td>334215</td>\n",
              "      <td>21</td>\n",
              "      <td>1</td>\n",
              "      <td>0</td>\n",
              "      <td>1</td>\n",
              "      <td>13</td>\n",
              "      <td>True</td>\n",
              "      <td>1</td>\n",
              "      <td>627.0</td>\n",
              "      <td>False</td>\n",
              "    </tr>\n",
              "    <tr>\n",
              "      <th>4</th>\n",
              "      <td>488661</td>\n",
              "      <td>22</td>\n",
              "      <td>1</td>\n",
              "      <td>0</td>\n",
              "      <td>1</td>\n",
              "      <td>8</td>\n",
              "      <td>True</td>\n",
              "      <td>1</td>\n",
              "      <td>625.0</td>\n",
              "      <td>True</td>\n",
              "    </tr>\n",
              "  </tbody>\n",
              "</table>\n",
              "</div>"
            ],
            "text/plain": [
              "   pregnancy_reg_location_id  age_during_delivery  ...  member_caste  is_bpl_family\n",
              "0                     508796                   24  ...         626.0          False\n",
              "1                      16234                   21  ...         626.0          False\n",
              "2                      16234                   19  ...         626.0          False\n",
              "3                     334215                   21  ...         627.0          False\n",
              "4                     488661                   22  ...         625.0           True\n",
              "\n",
              "[5 rows x 10 columns]"
            ]
          },
          "metadata": {
            "tags": []
          },
          "execution_count": 5
        }
      ]
    },
    {
      "cell_type": "code",
      "metadata": {
        "id": "z4kmIlogsf9f"
      },
      "source": [
        "X = initial_data[['pregnancy_reg_location_id', 'age_during_delivery', 'registered_with_no_of_child', 'registered_with_male_cnt', 'registered_with_female_cnt', 'prev_preg_diff_in_month', 'high_risk_mother']]\n",
        "\n",
        "y = initial_data[['delivery_outcome']]"
      ],
      "execution_count": null,
      "outputs": []
    },
    {
      "cell_type": "code",
      "metadata": {
        "id": "B6-5yBZpsf9j"
      },
      "source": [
        "#####################################################\n",
        "##       MISSING VALUES\n",
        "####################################################"
      ],
      "execution_count": null,
      "outputs": []
    },
    {
      "cell_type": "code",
      "metadata": {
        "id": "Jign4iaYsf9n"
      },
      "source": [
        "col_labels = ['pregnancy_reg_location_id', 'age_during_delivery', 'registered_with_no_of_child', 'registered_with_male_cnt', 'registered_with_female_cnt', 'prev_preg_diff_in_month', 'high_risk_mother', 'delivery_outcome', 'member_caste', 'is_bpl_family']\n",
        "\n",
        "initial_data.columns = col_labels"
      ],
      "execution_count": null,
      "outputs": []
    },
    {
      "cell_type": "code",
      "metadata": {
        "id": "xedcut3nsf9q",
        "colab": {
          "base_uri": "https://localhost:8080/",
          "height": 512
        },
        "outputId": "820fd58a-daed-465a-8c0a-481c1fa789e1"
      },
      "source": [
        "for c in col_labels:\n",
        "    no_missing = initial_data[c].isnull().sum()\n",
        "    if no_missing > 0:\n",
        "        print(c)\n",
        "        print(no_missing)\n",
        "    else:\n",
        "        print(c)\n",
        "        print(\"No missing values\")\n",
        "        print(' ')"
      ],
      "execution_count": null,
      "outputs": [
        {
          "output_type": "stream",
          "text": [
            "pregnancy_reg_location_id\n",
            "No missing values\n",
            " \n",
            "age_during_delivery\n",
            "No missing values\n",
            " \n",
            "registered_with_no_of_child\n",
            "No missing values\n",
            " \n",
            "registered_with_male_cnt\n",
            "No missing values\n",
            " \n",
            "registered_with_female_cnt\n",
            "No missing values\n",
            " \n",
            "prev_preg_diff_in_month\n",
            "No missing values\n",
            " \n",
            "high_risk_mother\n",
            "No missing values\n",
            " \n",
            "delivery_outcome\n",
            "No missing values\n",
            " \n",
            "member_caste\n",
            "301\n",
            "is_bpl_family\n",
            "301\n"
          ],
          "name": "stdout"
        }
      ]
    },
    {
      "cell_type": "code",
      "metadata": {
        "id": "zvfICm9Usf9t",
        "colab": {
          "base_uri": "https://localhost:8080/",
          "height": 280
        },
        "outputId": "24ce7b69-888a-4e2c-f616-ff73bbb1cf24"
      },
      "source": [
        "########################################################\n",
        "###   CLASS DISTRIBUTION\n",
        "#######################################################\n",
        "\n",
        "import seaborn as sns\n",
        "import matplotlib.pyplot as plt\n",
        "\n",
        "sns.countplot(initial_data['delivery_outcome'],label=\"Sum\")\n",
        "\n",
        "plt.show()"
      ],
      "execution_count": null,
      "outputs": [
        {
          "output_type": "display_data",
          "data": {
            "image/png": "[encoded data removed]",
            "text/plain": [
              "<Figure size 432x288 with 1 Axes>"
            ]
          },
          "metadata": {
            "tags": []
          }
        }
      ]
    },
    {
      "cell_type": "code",
      "metadata": {
        "id": "Kq2DdQGdsf9x"
      },
      "source": [
        "X_train, X_test, y_train, y_test = train_test_split(X,y,test_size=0.34)"
      ],
      "execution_count": null,
      "outputs": []
    },
    {
      "cell_type": "code",
      "metadata": {
        "id": "lZqsWJeRsf90"
      },
      "source": [
        "#Logistic Regression\n",
        "\n",
        "\n",
        "LR = LogisticRegression()\n",
        "\n",
        "scoring = ['accuracy', 'precision_macro', 'recall_macro' , 'f1_weighted', 'roc_auc']\n",
        "scores = cross_validate(LR, X_train, y_train, scoring=scoring, cv=20)\n",
        "\n",
        "sorted(scores.keys())\n",
        "LR_fit_time = scores['fit_time'].mean()\n",
        "LR_score_time = scores['score_time'].mean()\n",
        "LR_accuracy = scores['test_accuracy'].mean()\n",
        "LR_precision = scores['test_precision_macro'].mean()\n",
        "LR_recall = scores['test_recall_macro'].mean()\n",
        "LR_f1 = scores['test_f1_weighted'].mean()\n",
        "LR_roc = scores['test_roc_auc'].mean()"
      ],
      "execution_count": null,
      "outputs": []
    },
    {
      "cell_type": "code",
      "metadata": {
        "id": "jyIO5-Nasf94"
      },
      "source": [
        "#decision_tree\n",
        "\n",
        "decision_tree = DecisionTreeClassifier()\n",
        "\n",
        "scoring = ['accuracy', 'precision_macro', 'recall_macro' , 'f1_weighted', 'roc_auc']\n",
        "scores = cross_validate(decision_tree, X_train, y_train, scoring=scoring, cv=20)\n",
        "\n",
        "sorted(scores.keys())\n",
        "dtree_fit_time = scores['fit_time'].mean()\n",
        "dtree_score_time = scores['score_time'].mean()\n",
        "dtree_accuracy = scores['test_accuracy'].mean()\n",
        "dtree_precision = scores['test_precision_macro'].mean()\n",
        "dtree_recall = scores['test_recall_macro'].mean()\n",
        "dtree_f1 = scores['test_f1_weighted'].mean()\n",
        "dtree_roc = scores['test_roc_auc'].mean()"
      ],
      "execution_count": null,
      "outputs": []
    },
    {
      "cell_type": "code",
      "metadata": {
        "id": "S-JQKuimsf9_"
      },
      "source": [
        "# Support Vector Machine\n",
        "SVM = SVC(probability = True)\n",
        "\n",
        "scoring = ['accuracy','precision_macro', 'recall_macro' , 'f1_weighted', 'roc_auc']\n",
        "scores = cross_validate(SVM, X_train, y_train, scoring=scoring, cv=20)\n",
        "\n",
        "sorted(scores.keys())\n",
        "SVM_fit_time = scores['fit_time'].mean()\n",
        "SVM_score_time = scores['score_time'].mean()\n",
        "SVM_accuracy = scores['test_accuracy'].mean()\n",
        "SVM_precision = scores['test_precision_macro'].mean()\n",
        "SVM_recall = scores['test_recall_macro'].mean()\n",
        "SVM_f1 = scores['test_f1_weighted'].mean()\n",
        "SVM_roc = scores['test_roc_auc'].mean()\n"
      ],
      "execution_count": null,
      "outputs": []
    },
    {
      "cell_type": "code",
      "metadata": {
        "id": "MgVPP_kOsf-C"
      },
      "source": [
        "# Linear Discriminant Analysis\n",
        "LDA = LinearDiscriminantAnalysis()\n",
        "\n",
        "scoring = ['accuracy', 'precision_macro', 'recall_macro' , 'f1_weighted', 'roc_auc']\n",
        "scores = cross_validate(LDA, X_train, y_train, scoring=scoring, cv=20)\n",
        "\n",
        "sorted(scores.keys())\n",
        "LDA_fit_time = scores['fit_time'].mean()\n",
        "LDA_score_time = scores['score_time'].mean()\n",
        "LDA_accuracy = scores['test_accuracy'].mean()\n",
        "LDA_precision = scores['test_precision_macro'].mean()\n",
        "LDA_recall = scores['test_recall_macro'].mean()\n",
        "LDA_f1 = scores['test_f1_weighted'].mean()\n",
        "LDA_roc = scores['test_roc_auc'].mean()"
      ],
      "execution_count": null,
      "outputs": []
    },
    {
      "cell_type": "code",
      "metadata": {
        "id": "IiErcNFbsf-H"
      },
      "source": [
        "# Quadratic Discriminant Analysis\n",
        "\n",
        "QDA = QuadraticDiscriminantAnalysis()\n",
        "\n",
        "scoring = ['accuracy', 'precision_macro', 'recall_macro' , 'f1_weighted', 'roc_auc']\n",
        "scores = cross_validate(QDA, X_train, y_train, scoring=scoring, cv=20)\n",
        "\n",
        "sorted(scores.keys())\n",
        "QDA_fit_time = scores['fit_time'].mean()\n",
        "QDA_score_time = scores['score_time'].mean()\n",
        "QDA_accuracy = scores['test_accuracy'].mean()\n",
        "QDA_precision = scores['test_precision_macro'].mean()\n",
        "QDA_recall = scores['test_recall_macro'].mean()\n",
        "QDA_f1 = scores['test_f1_weighted'].mean()\n",
        "QDA_roc = scores['test_roc_auc'].mean()"
      ],
      "execution_count": null,
      "outputs": []
    },
    {
      "cell_type": "code",
      "metadata": {
        "id": "LnKCXq7bsf-N"
      },
      "source": [
        "# Random Forest Classifier\n",
        "random_forest = RandomForestClassifier()\n",
        "\n",
        "scoring = ['accuracy', 'precision_macro', 'recall_macro' , 'f1_weighted', 'roc_auc']\n",
        "scores = cross_validate(random_forest, X_train, y_train, scoring=scoring, cv=20)\n",
        "\n",
        "sorted(scores.keys())\n",
        "forest_fit_time = scores['fit_time'].mean()\n",
        "forest_score_time = scores['score_time'].mean()\n",
        "forest_accuracy = scores['test_accuracy'].mean()\n",
        "forest_precision = scores['test_precision_macro'].mean()\n",
        "forest_recall = scores['test_recall_macro'].mean()\n",
        "forest_f1 = scores['test_f1_weighted'].mean()\n",
        "forest_roc = scores['test_roc_auc'].mean()"
      ],
      "execution_count": null,
      "outputs": []
    },
    {
      "cell_type": "code",
      "metadata": {
        "id": "EQcqwZx_sf-R"
      },
      "source": [
        "# K-Nearest Neighbors\n",
        "KNN = KNeighborsClassifier()\n",
        "\n",
        "scoring = ['accuracy', 'precision_macro', 'recall_macro' , 'f1_weighted', 'roc_auc']\n",
        "scores = cross_validate(KNN, X_train, y_train, scoring=scoring, cv=20)\n",
        "\n",
        "sorted(scores.keys())\n",
        "KNN_fit_time = scores['fit_time'].mean()\n",
        "KNN_score_time = scores['score_time'].mean()\n",
        "KNN_accuracy = scores['test_accuracy'].mean()\n",
        "KNN_precision = scores['test_precision_macro'].mean()\n",
        "KNN_recall = scores['test_recall_macro'].mean()\n",
        "KNN_f1 = scores['test_f1_weighted'].mean()\n",
        "KNN_roc = scores['test_roc_auc'].mean()"
      ],
      "execution_count": null,
      "outputs": []
    },
    {
      "cell_type": "code",
      "metadata": {
        "id": "SsAuYoExsf-j"
      },
      "source": [
        "# Naive Bayes\n",
        "bayes = GaussianNB()\n",
        "\n",
        "scoring = ['accuracy', 'precision_macro', 'recall_macro' , 'f1_weighted', 'roc_auc']\n",
        "scores = cross_validate(bayes, X_train, y_train, scoring=scoring, cv=20)\n",
        "\n",
        "sorted(scores.keys())\n",
        "bayes_fit_time = scores['fit_time'].mean()\n",
        "bayes_score_time = scores['score_time'].mean()\n",
        "bayes_accuracy = scores['test_accuracy'].mean()\n",
        "bayes_precision = scores['test_precision_macro'].mean()\n",
        "bayes_recall = scores['test_recall_macro'].mean()\n",
        "bayes_f1 = scores['test_f1_weighted'].mean()\n",
        "bayes_roc = scores['test_roc_auc'].mean()"
      ],
      "execution_count": null,
      "outputs": []
    },
    {
      "cell_type": "code",
      "metadata": {
        "id": "aWBUyHS7sf-n",
        "colab": {
          "base_uri": "https://localhost:8080/"
        },
        "outputId": "fc0d1143-b8e0-4f46-9714-bd470c7a2e3d"
      },
      "source": [
        "# Comparison\n",
        "models_initial = pd.DataFrame({\n",
        "    'Model'       : ['Logistic Regression', 'Decision Tree', 'Support Vector Machine', 'Linear Discriminant Analysis', 'Quadratic Discriminant Analysis', 'Random Forest', 'K-Nearest Neighbors', 'Bayes'],\n",
        "    'Fitting time': [LR_fit_time, dtree_fit_time, SVM_fit_time, LDA_fit_time, QDA_fit_time, forest_fit_time, KNN_fit_time, bayes_fit_time],\n",
        "    'Scoring time': [LR_score_time, dtree_score_time, SVM_score_time, LDA_score_time, QDA_score_time, forest_score_time, KNN_score_time, bayes_score_time],\n",
        "    'Accuracy'    : [LR_accuracy, dtree_accuracy, SVM_accuracy, LDA_accuracy, QDA_accuracy, forest_accuracy, KNN_accuracy, bayes_accuracy],\n",
        "    'Precision'   : [LR_precision, dtree_precision, SVM_precision, LDA_precision, QDA_precision, forest_precision, KNN_precision, bayes_precision],\n",
        "    'Recall'      : [LR_recall, dtree_recall, SVM_recall, LDA_recall, QDA_recall, forest_recall, KNN_recall, bayes_recall],\n",
        "    'F1_score'    : [LR_f1, dtree_f1, SVM_f1, LDA_f1, QDA_f1, forest_f1, KNN_f1, bayes_f1],\n",
        "    'AUC_ROC'     : [LR_roc, dtree_roc, SVM_roc, LDA_roc, QDA_roc, forest_roc, KNN_roc, bayes_roc],\n",
        "    }, columns = ['Model', 'Fitting time', 'Scoring time', 'Accuracy', 'Precision', 'Recall', 'F1_score', 'AUC_ROC'])\n",
        "\n",
        "models_initial.sort_values(by='Accuracy', ascending=False)\n",
        "Model\tFitting time\tScoring time\tAccuracy\tPrecision\tRecall\tF1_score\t"
      ],
      "execution_count": null,
      "outputs": [
        {
          "output_type": "error",
          "ename": "SyntaxError",
          "evalue": "ignored",
          "traceback": [
            "\u001b[0;36m  File \u001b[0;32m\"<ipython-input-20-ad5b3b830493>\"\u001b[0;36m, line \u001b[0;32m13\u001b[0m\n\u001b[0;31m    Model\tFitting time\tScoring time\tAccuracy\tPrecision\tRecall\tF1_score\u001b[0m\n\u001b[0m         \t      ^\u001b[0m\n\u001b[0;31mSyntaxError\u001b[0m\u001b[0;31m:\u001b[0m invalid syntax\n"
          ]
        }
      ]
    },
    {
      "cell_type": "code",
      "metadata": {
        "id": "ZKOPbkgmsf-q"
      },
      "source": [
        "#############################################\n",
        "\n",
        "##  CORRELATION\n",
        "\n",
        "############################################\n",
        "\n",
        "correlation = initial_data.corr()\n",
        "\n",
        "mask = np.zeros_like(correlation, dtype=np.bool)\n",
        "mask[np.triu_indices_from(mask)] = True\n",
        "\n",
        "f, ax = plt.subplots(figsize=(20, 20))\n",
        "\n",
        "cmap = sns.diverging_palette(180, 20, as_cmap=True)\n",
        "sns.heatmap(correlation, mask=mask, cmap=cmap, vmax=1, vmin =-1, center=0,\n",
        "            square=True, linewidths=.5, cbar_kws={\"shrink\": .5}, annot=True)\n",
        "\n",
        "plt.show()"
      ],
      "execution_count": null,
      "outputs": []
    },
    {
      "cell_type": "code",
      "metadata": {
        "id": "c-IvUdEOsf-v"
      },
      "source": [
        "X_corr = initial_data[['pregnancy_reg_location_id', 'age_during_delivery', 'registered_with_no_of_child', 'registered_with_male_cnt', 'registered_with_female_cnt', 'prev_preg_diff_in_month', 'high_risk_mother']]\n",
        "\n",
        "y_corr = initial_data[['delivery_outcome']]"
      ],
      "execution_count": null,
      "outputs": []
    },
    {
      "cell_type": "code",
      "metadata": {
        "id": "7hgSQcafsf-y"
      },
      "source": [
        "correlation = X_corr.corr()\n",
        "\n",
        "mask = np.zeros_like(correlation, dtype=np.bool)\n",
        "mask[np.triu_indices_from(mask)] = True\n",
        "\n",
        "f, ax = plt.subplots(figsize=(5, 5))\n",
        "\n",
        "cmap = sns.diverging_palette(180, 20, as_cmap=True)\n",
        "sns.heatmap(correlation, mask=mask, cmap=cmap, vmax=1, vmin =-1, center=0,\n",
        "            square=True, linewidths=.5, cbar_kws={\"shrink\": .5}, annot=True)\n",
        "\n",
        "plt.show()"
      ],
      "execution_count": null,
      "outputs": []
    },
    {
      "cell_type": "code",
      "metadata": {
        "id": "WMI5tPoTsf-1"
      },
      "source": [
        "X_train, X_test, y_train, y_test = train_test_split(X,y,test_size=0.34)\n"
      ],
      "execution_count": null,
      "outputs": []
    },
    {
      "cell_type": "code",
      "metadata": {
        "id": "K0R7YqEusf-4"
      },
      "source": [
        ""
      ],
      "execution_count": null,
      "outputs": []
    }
  ]
}